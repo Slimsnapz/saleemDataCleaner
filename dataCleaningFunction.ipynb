{
 "cells": [
  {
   "cell_type": "code",
   "execution_count": 4,
   "id": "277b5d8d-07e3-4fb3-a57d-5927a6adc8b1",
   "metadata": {},
   "outputs": [],
   "source": [
    "import pandas as pd\n",
    "import saleemDataCleaner as sd"
   ]
  },
  {
   "cell_type": "code",
   "execution_count": 2,
   "id": "b83d83bd-968d-409c-8048-283362f725b0",
   "metadata": {},
   "outputs": [
    {
     "name": "stdin",
     "output_type": "stream",
     "text": [
      "Input dataset name (without extension):  WA_Fn-UseC_-Telco-Customer-Churn\n",
      "Input file extension type (csv or xlsx):  csv\n"
     ]
    },
    {
     "name": "stdout",
     "output_type": "stream",
     "text": [
      "The data has 7043 samples with 21 features\n",
      "*****************************************DATASET INFO**************************************************************\n",
      "<class 'pandas.core.frame.DataFrame'>\n",
      "RangeIndex: 7043 entries, 0 to 7042\n",
      "Data columns (total 21 columns):\n",
      " #   Column            Non-Null Count  Dtype  \n",
      "---  ------            --------------  -----  \n",
      " 0   customerID        7043 non-null   object \n",
      " 1   gender            7043 non-null   object \n",
      " 2   SeniorCitizen     7043 non-null   int64  \n",
      " 3   Partner           7043 non-null   object \n",
      " 4   Dependents        7043 non-null   object \n",
      " 5   tenure            7043 non-null   int64  \n",
      " 6   PhoneService      7043 non-null   object \n",
      " 7   MultipleLines     7043 non-null   object \n",
      " 8   InternetService   7043 non-null   object \n",
      " 9   OnlineSecurity    7043 non-null   object \n",
      " 10  OnlineBackup      7043 non-null   object \n",
      " 11  DeviceProtection  7043 non-null   object \n",
      " 12  TechSupport       7043 non-null   object \n",
      " 13  StreamingTV       7043 non-null   object \n",
      " 14  StreamingMovies   7043 non-null   object \n",
      " 15  Contract          7043 non-null   object \n",
      " 16  PaperlessBilling  7043 non-null   object \n",
      " 17  PaymentMethod     7043 non-null   object \n",
      " 18  MonthlyCharges    7043 non-null   float64\n",
      " 19  TotalCharges      7043 non-null   object \n",
      " 20  Churn             7043 non-null   object \n",
      "dtypes: float64(1), int64(2), object(18)\n",
      "memory usage: 1.1+ MB\n",
      "None\n",
      "****************************ANALYZING FIRST 8 SAMPLE DATA OF EACH FEATURE*****************************************\n",
      "customerID contains ['7590-VHVEG', '5575-GNVDE', '3668-QPYBK', '7795-CFOCW', '9237-HQITU', '9305-CDSKC', '1452-KIOVK', '6713-OKOMC'] and is currently of the object datatype\n",
      "**************************************************************************************************************\n",
      "gender contains ['Female', 'Male', 'Male', 'Male', 'Female', 'Female', 'Male', 'Female'] and is currently of the object datatype\n",
      "**************************************************************************************************************\n",
      "SeniorCitizen contains [0, 0, 0, 0, 0, 0, 0, 0] and is currently of the int64 datatype\n",
      "**************************************************************************************************************\n",
      "Partner contains ['Yes', 'No', 'No', 'No', 'No', 'No', 'No', 'No'] and is currently of the object datatype\n",
      "**************************************************************************************************************\n",
      "Dependents contains ['No', 'No', 'No', 'No', 'No', 'No', 'Yes', 'No'] and is currently of the object datatype\n",
      "**************************************************************************************************************\n",
      "tenure contains [1, 34, 2, 45, 2, 8, 22, 10] and is currently of the int64 datatype\n",
      "**************************************************************************************************************\n",
      "PhoneService contains ['No', 'Yes', 'Yes', 'No', 'Yes', 'Yes', 'Yes', 'No'] and is currently of the object datatype\n",
      "**************************************************************************************************************\n",
      "MultipleLines contains ['No phone service', 'No', 'No', 'No phone service', 'No', 'Yes', 'Yes', 'No phone service'] and is currently of the object datatype\n",
      "**************************************************************************************************************\n",
      "InternetService contains ['DSL', 'DSL', 'DSL', 'DSL', 'Fiber optic', 'Fiber optic', 'Fiber optic', 'DSL'] and is currently of the object datatype\n",
      "**************************************************************************************************************\n",
      "OnlineSecurity contains ['No', 'Yes', 'Yes', 'Yes', 'No', 'No', 'No', 'Yes'] and is currently of the object datatype\n",
      "**************************************************************************************************************\n",
      "OnlineBackup contains ['Yes', 'No', 'Yes', 'No', 'No', 'No', 'Yes', 'No'] and is currently of the object datatype\n",
      "**************************************************************************************************************\n",
      "DeviceProtection contains ['No', 'Yes', 'No', 'Yes', 'No', 'Yes', 'No', 'No'] and is currently of the object datatype\n",
      "**************************************************************************************************************\n",
      "TechSupport contains ['No', 'No', 'No', 'Yes', 'No', 'No', 'No', 'No'] and is currently of the object datatype\n",
      "**************************************************************************************************************\n",
      "StreamingTV contains ['No', 'No', 'No', 'No', 'No', 'Yes', 'Yes', 'No'] and is currently of the object datatype\n",
      "**************************************************************************************************************\n",
      "StreamingMovies contains ['No', 'No', 'No', 'No', 'No', 'Yes', 'No', 'No'] and is currently of the object datatype\n",
      "**************************************************************************************************************\n",
      "Contract contains ['Month-to-month', 'One year', 'Month-to-month', 'One year', 'Month-to-month', 'Month-to-month', 'Month-to-month', 'Month-to-month'] and is currently of the object datatype\n",
      "**************************************************************************************************************\n",
      "PaperlessBilling contains ['Yes', 'No', 'Yes', 'No', 'Yes', 'Yes', 'Yes', 'No'] and is currently of the object datatype\n",
      "**************************************************************************************************************\n",
      "PaymentMethod contains ['Electronic check', 'Mailed check', 'Mailed check', 'Bank transfer (automatic)', 'Electronic check', 'Electronic check', 'Credit card (automatic)', 'Mailed check'] and is currently of the object datatype\n",
      "**************************************************************************************************************\n",
      "MonthlyCharges contains [29.85, 56.95, 53.85, 42.3, 70.7, 99.65, 89.1, 29.75] and is currently of the float64 datatype\n",
      "**************************************************************************************************************\n",
      "TotalCharges contains ['29.85', '1889.5', '108.15', '1840.75', '151.65', '820.5', '1949.4', '301.9'] and is currently of the object datatype\n",
      "**************************************************************************************************************\n",
      "Churn contains ['No', 'No', 'Yes', 'No', 'Yes', 'Yes', 'No', 'No'] and is currently of the object datatype\n",
      "**************************************************************************************************************\n",
      "********************************DATATYPE MISMATCH IDENTIFIED AT ['TotalCharges']\n",
      "***********************************RECTIFYING DATA TYPE MISMATCH AND WHITE SPACES IN DATASET**************************************\n",
      "*************************DATATYPE MISMATCH AT COLUMN TotalCharges HAS BEEN RECTIFIED SUCCESSFULLY************************\n",
      "************************************************************************************\n",
      "TotalCharges has 11 missing values.\n",
      "Treating missing values in the dataset...\n",
      "Missing values in TotalCharges were successfully backfilled.\n",
      "No duplicated data instances were found.\n"
     ]
    },
    {
     "name": "stdin",
     "output_type": "stream",
     "text": [
      "Indicate the Target feature:  Churn\n"
     ]
    },
    {
     "name": "stdout",
     "output_type": "stream",
     "text": [
      "*******************************************************************************************************************\n",
      "The data has 16 categorical features and 4 numerical features present in it.\n",
      "*******************************************************************************************************************\n",
      "***********************ANALYZING ALL CATEGORICAL FEATURES IN THE DATASETS AND IDENTIFYING ITS UNIQUE LABELS********************************\n"
     ]
    },
    {
     "name": "stdin",
     "output_type": "stream",
     "text": [
      "customerID unique labels exceeds 20. recommend it dropped. Yes/No:  yes\n"
     ]
    },
    {
     "name": "stdout",
     "output_type": "stream",
     "text": [
      "[gender\n",
      "Male      3555\n",
      "Female    3488\n",
      "Name: count, dtype: int64, Partner\n",
      "No     3641\n",
      "Yes    3402\n",
      "Name: count, dtype: int64, Dependents\n",
      "No     4933\n",
      "Yes    2110\n",
      "Name: count, dtype: int64, PhoneService\n",
      "Yes    6361\n",
      "No      682\n",
      "Name: count, dtype: int64, MultipleLines\n",
      "No                  3390\n",
      "Yes                 2971\n",
      "No phone service     682\n",
      "Name: count, dtype: int64, InternetService\n",
      "Fiber optic    3096\n",
      "DSL            2421\n",
      "No             1526\n",
      "Name: count, dtype: int64, OnlineSecurity\n",
      "No                     3498\n",
      "Yes                    2019\n",
      "No internet service    1526\n",
      "Name: count, dtype: int64, OnlineBackup\n",
      "No                     3088\n",
      "Yes                    2429\n",
      "No internet service    1526\n",
      "Name: count, dtype: int64, DeviceProtection\n",
      "No                     3095\n",
      "Yes                    2422\n",
      "No internet service    1526\n",
      "Name: count, dtype: int64, TechSupport\n",
      "No                     3473\n",
      "Yes                    2044\n",
      "No internet service    1526\n",
      "Name: count, dtype: int64, StreamingTV\n",
      "No                     2810\n",
      "Yes                    2707\n",
      "No internet service    1526\n",
      "Name: count, dtype: int64, StreamingMovies\n",
      "No                     2785\n",
      "Yes                    2732\n",
      "No internet service    1526\n",
      "Name: count, dtype: int64, Contract\n",
      "Month-to-month    3875\n",
      "Two year          1695\n",
      "One year          1473\n",
      "Name: count, dtype: int64, PaperlessBilling\n",
      "Yes    4171\n",
      "No     2872\n",
      "Name: count, dtype: int64, PaymentMethod\n",
      "Electronic check             2365\n",
      "Mailed check                 1612\n",
      "Bank transfer (automatic)    1544\n",
      "Credit card (automatic)      1522\n",
      "Name: count, dtype: int64]\n",
      "Please provide the appropriate data labels for all your categorical data.\n",
      "Feature: gender\n"
     ]
    },
    {
     "name": "stdin",
     "output_type": "stream",
     "text": [
      "Indicate labels for \"gender\" (use commas to separate labels, or press Enter to skip):  \n"
     ]
    },
    {
     "name": "stdout",
     "output_type": "stream",
     "text": [
      "No labels provided for \"gender\". Moving to the next feature.\n"
     ]
    },
    {
     "name": "stdin",
     "output_type": "stream",
     "text": [
      "Is \"gender\" nominal or ordinal? (default is nominal):  \n"
     ]
    },
    {
     "name": "stdout",
     "output_type": "stream",
     "text": [
      "Feature: Partner\n"
     ]
    },
    {
     "name": "stdin",
     "output_type": "stream",
     "text": [
      "Indicate labels for \"Partner\" (use commas to separate labels, or press Enter to skip):  \n"
     ]
    },
    {
     "name": "stdout",
     "output_type": "stream",
     "text": [
      "No labels provided for \"Partner\". Moving to the next feature.\n"
     ]
    },
    {
     "name": "stdin",
     "output_type": "stream",
     "text": [
      "Is \"Partner\" nominal or ordinal? (default is nominal):  \n"
     ]
    },
    {
     "name": "stdout",
     "output_type": "stream",
     "text": [
      "Feature: Dependents\n"
     ]
    },
    {
     "name": "stdin",
     "output_type": "stream",
     "text": [
      "Indicate labels for \"Dependents\" (use commas to separate labels, or press Enter to skip):  \n"
     ]
    },
    {
     "name": "stdout",
     "output_type": "stream",
     "text": [
      "No labels provided for \"Dependents\". Moving to the next feature.\n"
     ]
    },
    {
     "name": "stdin",
     "output_type": "stream",
     "text": [
      "Is \"Dependents\" nominal or ordinal? (default is nominal):  \n"
     ]
    },
    {
     "name": "stdout",
     "output_type": "stream",
     "text": [
      "Feature: PhoneService\n"
     ]
    },
    {
     "name": "stdin",
     "output_type": "stream",
     "text": [
      "Indicate labels for \"PhoneService\" (use commas to separate labels, or press Enter to skip):  \n"
     ]
    },
    {
     "name": "stdout",
     "output_type": "stream",
     "text": [
      "No labels provided for \"PhoneService\". Moving to the next feature.\n"
     ]
    },
    {
     "name": "stdin",
     "output_type": "stream",
     "text": [
      "Is \"PhoneService\" nominal or ordinal? (default is nominal):  \n"
     ]
    },
    {
     "name": "stdout",
     "output_type": "stream",
     "text": [
      "Feature: MultipleLines\n"
     ]
    },
    {
     "name": "stdin",
     "output_type": "stream",
     "text": [
      "Indicate labels for \"MultipleLines\" (use commas to separate labels, or press Enter to skip):  \n"
     ]
    },
    {
     "name": "stdout",
     "output_type": "stream",
     "text": [
      "No labels provided for \"MultipleLines\". Moving to the next feature.\n"
     ]
    },
    {
     "name": "stdin",
     "output_type": "stream",
     "text": [
      "Is \"MultipleLines\" nominal or ordinal? (default is nominal):  \n"
     ]
    },
    {
     "name": "stdout",
     "output_type": "stream",
     "text": [
      "Feature: InternetService\n"
     ]
    },
    {
     "name": "stdin",
     "output_type": "stream",
     "text": [
      "Indicate labels for \"InternetService\" (use commas to separate labels, or press Enter to skip):  \n"
     ]
    },
    {
     "name": "stdout",
     "output_type": "stream",
     "text": [
      "No labels provided for \"InternetService\". Moving to the next feature.\n"
     ]
    },
    {
     "name": "stdin",
     "output_type": "stream",
     "text": [
      "Is \"InternetService\" nominal or ordinal? (default is nominal):  \n"
     ]
    },
    {
     "name": "stdout",
     "output_type": "stream",
     "text": [
      "Feature: OnlineSecurity\n"
     ]
    },
    {
     "name": "stdin",
     "output_type": "stream",
     "text": [
      "Indicate labels for \"OnlineSecurity\" (use commas to separate labels, or press Enter to skip):  \n"
     ]
    },
    {
     "name": "stdout",
     "output_type": "stream",
     "text": [
      "No labels provided for \"OnlineSecurity\". Moving to the next feature.\n"
     ]
    },
    {
     "name": "stdin",
     "output_type": "stream",
     "text": [
      "Is \"OnlineSecurity\" nominal or ordinal? (default is nominal):  \n"
     ]
    },
    {
     "name": "stdout",
     "output_type": "stream",
     "text": [
      "Feature: OnlineBackup\n"
     ]
    },
    {
     "name": "stdin",
     "output_type": "stream",
     "text": [
      "Indicate labels for \"OnlineBackup\" (use commas to separate labels, or press Enter to skip):  \n"
     ]
    },
    {
     "name": "stdout",
     "output_type": "stream",
     "text": [
      "No labels provided for \"OnlineBackup\". Moving to the next feature.\n"
     ]
    },
    {
     "name": "stdin",
     "output_type": "stream",
     "text": [
      "Is \"OnlineBackup\" nominal or ordinal? (default is nominal):  \n"
     ]
    },
    {
     "name": "stdout",
     "output_type": "stream",
     "text": [
      "Feature: DeviceProtection\n"
     ]
    },
    {
     "name": "stdin",
     "output_type": "stream",
     "text": [
      "Indicate labels for \"DeviceProtection\" (use commas to separate labels, or press Enter to skip):  \n"
     ]
    },
    {
     "name": "stdout",
     "output_type": "stream",
     "text": [
      "No labels provided for \"DeviceProtection\". Moving to the next feature.\n"
     ]
    },
    {
     "name": "stdin",
     "output_type": "stream",
     "text": [
      "Is \"DeviceProtection\" nominal or ordinal? (default is nominal):  \n"
     ]
    },
    {
     "name": "stdout",
     "output_type": "stream",
     "text": [
      "Feature: TechSupport\n"
     ]
    },
    {
     "name": "stdin",
     "output_type": "stream",
     "text": [
      "Indicate labels for \"TechSupport\" (use commas to separate labels, or press Enter to skip):  \n"
     ]
    },
    {
     "name": "stdout",
     "output_type": "stream",
     "text": [
      "No labels provided for \"TechSupport\". Moving to the next feature.\n"
     ]
    },
    {
     "name": "stdin",
     "output_type": "stream",
     "text": [
      "Is \"TechSupport\" nominal or ordinal? (default is nominal):  \n"
     ]
    },
    {
     "name": "stdout",
     "output_type": "stream",
     "text": [
      "Feature: StreamingTV\n"
     ]
    },
    {
     "name": "stdin",
     "output_type": "stream",
     "text": [
      "Indicate labels for \"StreamingTV\" (use commas to separate labels, or press Enter to skip):  \n"
     ]
    },
    {
     "name": "stdout",
     "output_type": "stream",
     "text": [
      "No labels provided for \"StreamingTV\". Moving to the next feature.\n"
     ]
    },
    {
     "name": "stdin",
     "output_type": "stream",
     "text": [
      "Is \"StreamingTV\" nominal or ordinal? (default is nominal):  \n"
     ]
    },
    {
     "name": "stdout",
     "output_type": "stream",
     "text": [
      "Feature: StreamingMovies\n"
     ]
    },
    {
     "name": "stdin",
     "output_type": "stream",
     "text": [
      "Indicate labels for \"StreamingMovies\" (use commas to separate labels, or press Enter to skip):  \n"
     ]
    },
    {
     "name": "stdout",
     "output_type": "stream",
     "text": [
      "No labels provided for \"StreamingMovies\". Moving to the next feature.\n"
     ]
    },
    {
     "name": "stdin",
     "output_type": "stream",
     "text": [
      "Is \"StreamingMovies\" nominal or ordinal? (default is nominal):  \n"
     ]
    },
    {
     "name": "stdout",
     "output_type": "stream",
     "text": [
      "Feature: Contract\n"
     ]
    },
    {
     "name": "stdin",
     "output_type": "stream",
     "text": [
      "Indicate labels for \"Contract\" (use commas to separate labels, or press Enter to skip):  \n"
     ]
    },
    {
     "name": "stdout",
     "output_type": "stream",
     "text": [
      "No labels provided for \"Contract\". Moving to the next feature.\n"
     ]
    },
    {
     "name": "stdin",
     "output_type": "stream",
     "text": [
      "Is \"Contract\" nominal or ordinal? (default is nominal):  \n"
     ]
    },
    {
     "name": "stdout",
     "output_type": "stream",
     "text": [
      "Feature: PaperlessBilling\n"
     ]
    },
    {
     "name": "stdin",
     "output_type": "stream",
     "text": [
      "Indicate labels for \"PaperlessBilling\" (use commas to separate labels, or press Enter to skip):  \n"
     ]
    },
    {
     "name": "stdout",
     "output_type": "stream",
     "text": [
      "No labels provided for \"PaperlessBilling\". Moving to the next feature.\n"
     ]
    },
    {
     "name": "stdin",
     "output_type": "stream",
     "text": [
      "Is \"PaperlessBilling\" nominal or ordinal? (default is nominal):  \n"
     ]
    },
    {
     "name": "stdout",
     "output_type": "stream",
     "text": [
      "Feature: PaymentMethod\n"
     ]
    },
    {
     "name": "stdin",
     "output_type": "stream",
     "text": [
      "Indicate labels for \"PaymentMethod\" (use commas to separate labels, or press Enter to skip):  \n"
     ]
    },
    {
     "name": "stdout",
     "output_type": "stream",
     "text": [
      "No labels provided for \"PaymentMethod\". Moving to the next feature.\n"
     ]
    },
    {
     "name": "stdin",
     "output_type": "stream",
     "text": [
      "Is \"PaymentMethod\" nominal or ordinal? (default is nominal):  \n"
     ]
    },
    {
     "name": "stdout",
     "output_type": "stream",
     "text": [
      "Processing completed..................................................................................................................\n",
      "there are no mismatch found in the dataset for the categorical columns........................................................\n",
      "CHECKING FOR OUTLIERS IN NUMERICAL FEATURES>>>>>>>>>>>>>>>>>>>>>>>>>>>>>>>>>>>>>>>>>>>>>>>>>>>>>>>>>>>>>>>>>>>>>>>>>>>>>>>>>>>>>>>>>>>>>>>>>>>>>>>>\n",
      "SeniorCitizen: Upper limit = 0.0, Lower limit = 0.0\n",
      "--------------------------------------------------------------------------------------------------------------------------\n",
      "outlier statistics for SeniorCitizen feature\n",
      "upper limit is 0.0\n",
      "lower limit is 0.0\n",
      "percentage of outliers in SeniorCitizen is 16.21468124378816\n",
      "heavy presence of ouliers at SeniorCitizen recommend treating it\n",
      "---------------------------------------------------------------------------------------------------------------------------\n",
      "tenure: Upper limit = 124.0, Lower limit = -60.0\n",
      "--------------------------------------------------------------------------------------------------------------------------\n",
      "outlier statistics for tenure feature\n",
      "upper limit is 124.0\n",
      "lower limit is -60.0\n",
      "percentage of outliers in tenure is 0.0\n",
      "---------------------------------------------------------------------------------------------------------------------------\n",
      "MonthlyCharges: Upper limit = 171.375, Lower limit = -46.02499999999999\n",
      "--------------------------------------------------------------------------------------------------------------------------\n",
      "outlier statistics for MonthlyCharges feature\n",
      "upper limit is 171.375\n",
      "lower limit is -46.02499999999999\n",
      "percentage of outliers in MonthlyCharges is 0.0\n",
      "---------------------------------------------------------------------------------------------------------------------------\n",
      "TotalCharges: Upper limit = 8882.925, Lower limit = -4690.075\n",
      "--------------------------------------------------------------------------------------------------------------------------\n",
      "outlier statistics for TotalCharges feature\n",
      "upper limit is 8882.925\n",
      "lower limit is -4690.075\n",
      "percentage of outliers in TotalCharges is 0.0\n",
      "---------------------------------------------------------------------------------------------------------------------------\n",
      "<<<<<<<<< END OF OUTLIER ANALYSIS >>>>>>>>>>>>>>>>>>>>\n",
      "...................................................................................................................................\n",
      "CHECKING SKEWNESS>>>>>>>>>>>>>>>>>>>>>>>>>>>>>>>>>>>>>>>>>>>>>>>>>>>>>>>>>>>>>>>>>>>>>>>>>>>>>>>>>>>>>>>>>>>>>>>>>>>>>>>>>>>>\n",
      "the feature SeniorCitizen is 1.8336327440928564 skewed......................................................................................\n",
      "CHECKING SKEWNESS>>>>>>>>>>>>>>>>>>>>>>>>>>>>>>>>>>>>>>>>>>>>>>>>>>>>>>>>>>>>>>>>>>>>>>>>>>>>>>>>>>>>>>>>>>>>>>>>>>>>>>>>>>>>\n",
      "the feature tenure is 0.2395397495619829 skewed......................................................................................\n",
      "CHECKING SKEWNESS>>>>>>>>>>>>>>>>>>>>>>>>>>>>>>>>>>>>>>>>>>>>>>>>>>>>>>>>>>>>>>>>>>>>>>>>>>>>>>>>>>>>>>>>>>>>>>>>>>>>>>>>>>>>\n",
      "the feature MonthlyCharges is -0.22052443394398033 skewed......................................................................................\n",
      "CHECKING SKEWNESS>>>>>>>>>>>>>>>>>>>>>>>>>>>>>>>>>>>>>>>>>>>>>>>>>>>>>>>>>>>>>>>>>>>>>>>>>>>>>>>>>>>>>>>>>>>>>>>>>>>>>>>>>>>>\n",
      "the feature TotalCharges is 0.9618517169576409 skewed......................................................................................\n",
      "checking satistical behaviour of the numerical features in dataset\n",
      "       SeniorCitizen       tenure  MonthlyCharges  TotalCharges\n",
      "count    7043.000000  7043.000000     7043.000000   7043.000000\n",
      "mean        0.162147    32.371149       64.761692   2281.864894\n",
      "std         0.368612    24.559481       30.090047   2266.782978\n",
      "min         0.000000     0.000000       18.250000     18.800000\n",
      "25%         0.000000     9.000000       35.500000    399.800000\n",
      "50%         0.000000    29.000000       70.350000   1396.250000\n",
      "75%         0.000000    55.000000       89.850000   3793.050000\n",
      "max         1.000000    72.000000      118.750000   8684.800000\n",
      "You need to normalize the data.\n",
      "NORMALIZING NUMERICAL DATA IN PROGRESS>>>>>>>>>>>>>>>>>>>>>>>>>>>>>>>>>>>>>>>>>>>>>>>>>>>>>>>>>>>>>>>>>>>>>>>>>>>>>>>>>>>>>>>>>>>>>>>>>>>\n",
      "NORMALIZATION OF NUMERICAL DATA COMPLETED................................................................................................\n",
      ".........................................................................................................................................\n",
      "Consider rescaling the data.\n",
      "SCALING NUMERICAL DATA IN PROGRESS>>>>>>>>>>>>>>>>>>>>>>>>>>>>>>>>>>>>>>>>>>>>>>>>>>>>>>>>>>>>>>>>>>>>>>>>>>>>>>>>>>>>>>>>>>>>>>>>>>>\n",
      "SCALING OF NUMERICAL DATA COMPLETED................................................................................................\n",
      "...................................................................................................................................\n",
      "Standardization may not be necessary.\n"
     ]
    },
    {
     "name": "stdin",
     "output_type": "stream",
     "text": [
      "Select the feature selection method you want to use: UFS or RFE or PCA ref\n"
     ]
    },
    {
     "name": "stdout",
     "output_type": "stream",
     "text": [
      "ref is not available, please input the available methods listed...........................\n"
     ]
    },
    {
     "name": "stdin",
     "output_type": "stream",
     "text": [
      "Select the feature selection method you want to use: UFS or RFE or PCA rfe\n"
     ]
    },
    {
     "name": "stdout",
     "output_type": "stream",
     "text": [
      "Selected features: ['Dependents_Yes', 'PhoneService_Yes', 'MultipleLines_No', 'InternetService_DSL', 'InternetService_Fiber optic', 'InternetService_No', 'OnlineSecurity_No', 'OnlineSecurity_No internet service', 'OnlineSecurity_Yes', 'OnlineBackup_No internet service', 'DeviceProtection_No internet service', 'TechSupport_No', 'TechSupport_No internet service', 'StreamingTV_Yes', 'StreamingMovies_No', 'Contract_Month-to-month', 'Contract_Two year', 'PaperlessBilling_No', 'PaymentMethod_Electronic check', 'SeniorCitizen', 'tenure', 'TotalCharges']\n",
      "Model accuracy with selected features: 0.7993\n"
     ]
    }
   ],
   "source": [
    "data1, data2,data3,data4 = sd.saleem_data_cleaner()"
   ]
  },
  {
   "cell_type": "code",
   "execution_count": null,
   "id": "ba1bdc63-1c6b-4e00-82b1-deacc0553d1e",
   "metadata": {},
   "outputs": [],
   "source": []
  },
  {
   "cell_type": "code",
   "execution_count": null,
   "id": "cfff8ca1-dd8b-47e9-a68f-c9901bc4e00f",
   "metadata": {},
   "outputs": [],
   "source": []
  },
  {
   "cell_type": "code",
   "execution_count": null,
   "id": "34c1bac8-a477-4596-a573-d05c146df7f9",
   "metadata": {},
   "outputs": [],
   "source": []
  },
  {
   "cell_type": "code",
   "execution_count": null,
   "id": "27484bb9-b1b5-469f-99ac-b4b7f300d53a",
   "metadata": {},
   "outputs": [],
   "source": []
  },
  {
   "cell_type": "code",
   "execution_count": null,
   "id": "0b841df7-7035-4f11-b0b2-3e209804d523",
   "metadata": {},
   "outputs": [],
   "source": []
  },
  {
   "cell_type": "code",
   "execution_count": null,
   "id": "5b438c02-abc3-48d4-bd30-6d129ae37be9",
   "metadata": {},
   "outputs": [],
   "source": []
  },
  {
   "cell_type": "code",
   "execution_count": null,
   "id": "a9a7d695-0860-47db-9be2-04e68d71a5aa",
   "metadata": {},
   "outputs": [],
   "source": []
  },
  {
   "cell_type": "code",
   "execution_count": null,
   "id": "502dcd57-7b91-4f32-ace2-29dd63face23",
   "metadata": {},
   "outputs": [],
   "source": []
  },
  {
   "cell_type": "code",
   "execution_count": null,
   "id": "defadb25-bd21-4d70-aa8d-01c48b06b22f",
   "metadata": {},
   "outputs": [],
   "source": []
  },
  {
   "cell_type": "code",
   "execution_count": null,
   "id": "42a73f3a-3d4d-4522-a6f8-b8f03f8d633f",
   "metadata": {},
   "outputs": [],
   "source": []
  },
  {
   "cell_type": "code",
   "execution_count": null,
   "id": "7dce4fd0-adff-4649-9c1c-9c9fa16367b9",
   "metadata": {},
   "outputs": [],
   "source": []
  }
 ],
 "metadata": {
  "kernelspec": {
   "display_name": "Python 3 (ipykernel)",
   "language": "python",
   "name": "python3"
  },
  "language_info": {
   "codemirror_mode": {
    "name": "ipython",
    "version": 3
   },
   "file_extension": ".py",
   "mimetype": "text/x-python",
   "name": "python",
   "nbconvert_exporter": "python",
   "pygments_lexer": "ipython3",
   "version": "3.12.3"
  }
 },
 "nbformat": 4,
 "nbformat_minor": 5
}
